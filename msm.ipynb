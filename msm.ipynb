{
 "cells": [
  {
   "cell_type": "code",
   "execution_count": null,
   "id": "5deb273b",
   "metadata": {},
   "outputs": [],
   "source": [
    "import pyemma\n",
    "pyemma.__version__\n",
    "import random as rndm"
   ]
  },
  {
   "cell_type": "code",
   "execution_count": null,
   "id": "599ebde0",
   "metadata": {},
   "outputs": [],
   "source": [
    "import matplotlib as mpltlib\n",
    "import matplotlib.pylab as plt\n",
    "import numpy as np\n",
    "#import nglview as nv\n",
    "%pylab inline\n",
    "import mdtraj\n",
    "import numpy as np\n",
    "\n",
    "import pyemma.util.contexts\n"
   ]
  },
  {
   "cell_type": "code",
   "execution_count": null,
   "id": "cc6fae31",
   "metadata": {},
   "outputs": [],
   "source": [
    "import pyemma.coordinates as coor\n",
    "import pyemma.msm as msm\n",
    "import pyemma.plots as mplt"
   ]
  },
  {
   "cell_type": "code",
   "execution_count": null,
   "id": "56a4969b",
   "metadata": {},
   "outputs": [],
   "source": []
  },
  {
   "cell_type": "code",
   "execution_count": null,
   "id": "071606b3",
   "metadata": {},
   "outputs": [],
   "source": [
    "indir = '.'\n",
    "topfile =  'hdim-oct.inpcrd.pdb'\n",
    "traj_list = []\n",
    "for filename in os.listdir(indir):\n",
    "    if filename.endswith('.nc'):\n",
    "        traj_list.append(os.path.join(indir,filename))\n"
   ]
  },
  {
   "cell_type": "code",
   "execution_count": null,
   "id": "704b258a",
   "metadata": {},
   "outputs": [],
   "source": [
    "atom_mol = 145\n",
    "num_mol = 2\n",
    "\n",
    "topology = mdtraj.load(topfile).topology"
   ]
  },
  {
   "cell_type": "code",
   "execution_count": null,
   "id": "f93c5442",
   "metadata": {},
   "outputs": [],
   "source": [
    "feat = coor.featurizer(topfile)\n",
    "feat.add_backbone_torsions(deg=True)\n",
    "inp = coor.load(traj_list, features=feat)"
   ]
  },
  {
   "cell_type": "code",
   "execution_count": null,
   "id": "33059a36",
   "metadata": {},
   "outputs": [],
   "source": [
    "traj_length = 200\n",
    "inp = coor.source(traj_list, feat)\n",
    "print ('number of trajectories = ',inp.number_of_trajectories())\n",
    "print ('trajectory length = ',inp.trajectory_length(0))\n",
    "print ('trajectory time step = ', traj_length/ (inp.trajectory_length(0)-1),'ns')\n",
    "print ('number of dimension = ',inp.dimension())"
   ]
  },
  {
   "cell_type": "code",
   "execution_count": null,
   "id": "4236adae",
   "metadata": {},
   "outputs": [],
   "source": [
    "lag = 100\n",
    "dim = 2\n",
    "tica_obj = coor.tica(inp, lag = lag, dim = dim, kinetic_map = True)"
   ]
  },
  {
   "cell_type": "code",
   "execution_count": null,
   "id": "c6ed7d37",
   "metadata": {},
   "outputs": [],
   "source": [
    "Y = tica_obj.get_output()\n",
    "\n",
    "Y1 = np.concatenate(Y)"
   ]
  },
  {
   "cell_type": "code",
   "execution_count": null,
   "id": "98f7e2fa",
   "metadata": {},
   "outputs": [],
   "source": [
    "figure(figsize=(9,7))\n",
    "plt.subplot2grid((2,1),(0,0))\n",
    "plt.plot(Y1[:,0])\n",
    "plt.ylabel('IC 1')\n",
    "plt.subplot2grid((2,1),(1,0))\n",
    "plt.plot(Y1[:,1])\n",
    "plt.ylabel('IC 2')\n",
    "\n",
    "plt.xlabel('timesteps')\n",
    "save_figure('icvstime.eps')"
   ]
  },
  {
   "cell_type": "code",
   "execution_count": null,
   "id": "46ab4ea7",
   "metadata": {},
   "outputs": [],
   "source": [
    "mplt.plot_feature_histograms(Y1, feature_labels=['IC1','IC2'])"
   ]
  },
  {
   "cell_type": "code",
   "execution_count": null,
   "id": "30e18e26",
   "metadata": {},
   "outputs": [],
   "source": [
    "IC1 = Y1.T[0]\n",
    "IC2 = Y1.T[1]\n",
    "\n",
    "fig, ax, misc = pyemma.plots.plot_density(IC1, IC2, logscale=True)\n",
    "plt.ylabel('IC2')\n",
    "plt.xlabel('IC1')"
   ]
  },
  {
   "cell_type": "code",
   "execution_count": null,
   "id": "dda257d4",
   "metadata": {},
   "outputs": [],
   "source": [
    "tica0 = np.array([])\n",
    "tica1 = np.array([])\n",
    "for j in range(len(Y)):\n",
    "    tica0 = np.concatenate((tica0, Y[j][:,0]))\n",
    "\n",
    "for j in range(len(Y)):\n",
    "    tica1 = np.concatenate((tica1, Y[j][:,1]))\n",
    "    \n",
    "# histogram data\n",
    "z,x,y = np.histogram2d(tica0, tica1, bins=200)\n",
    "extent = (x.min(), x.max(), y.min(), y.max()) # extent of the plot\n",
    "# compute free energies\n",
    "F = -np.log(z)\n",
    "F[F == inf] = -1000\n",
    "maxval = np.amax(F)\n",
    "F[F == -1000] = maxval\n",
    "plt.figure(figsize=(6,5))\n",
    "plt.contourf(F.T, 50, cmap=plt.cm.afmhot, extent = extent)\n",
    "plt.colorbar()\n",
    "plt.ylabel('IC2')\n",
    "plt.xlabel('IC1')\n",
    "plt.show()\n",
    "\n",
    "del(tica0)\n",
    "del(tica1)\n",
    "\n",
    "save_figure('ic1vsic2.eps')"
   ]
  },
  {
   "cell_type": "code",
   "execution_count": null,
   "id": "d3c7d526",
   "metadata": {},
   "outputs": [],
   "source": [
    "cluster_centers = 500\n",
    "cl = coor.cluster_kmeans(data = Y, k= cluster_centers, max_iter=200)\n",
    "# for later use we save the discrete trajectories and cluster center coordinates:\n",
    "dtrajs = cl.dtrajs\n",
    "cc_x = cl.clustercenters[:,0]\n",
    "cc_y = cl.clustercenters[:,1]"
   ]
  },
  {
   "cell_type": "code",
   "execution_count": null,
   "id": "e6985441",
   "metadata": {},
   "outputs": [],
   "source": [
    "mplt.plot_free_energy(np.vstack(Y)[:,0], np.vstack(Y)[:,1]);\n",
    "#plt.contourf(F.T, 50, cmap=plt.cm.hot, extent=extent)\n",
    "plot(cc_x,cc_y, linewidth = 0.001, marker='.', c = 'C1')\n",
    "save_figure('cluster.eps')"
   ]
  },
  {
   "cell_type": "code",
   "execution_count": null,
   "id": "6e1c6b0a",
   "metadata": {},
   "outputs": [],
   "source": [
    "lags = [1,2,5,10,15,20,25,30,50,75,100,125, 150,175, 200]\n",
    "its = msm.its(dtrajs, lags=lags, n_jobs=1, nits=15)"
   ]
  },
  {
   "cell_type": "code",
   "execution_count": null,
   "id": "067afac9",
   "metadata": {},
   "outputs": [],
   "source": [
    "figure(figsize=(6,5))\n",
    "matplotlib.rcParams.update({'font.size': 30})\n",
    "mplt.plot_implied_timescales(its)\n",
    "save_figure('timescales.png')\n",
    "plt.xticks([0,50,100,150,200])\n",
    "save_figure('timescales.eps')"
   ]
  },
  {
   "cell_type": "code",
   "execution_count": null,
   "id": "15294373",
   "metadata": {},
   "outputs": [],
   "source": [
    "lag = 50\n",
    "M = msm.estimate_markov_model(dtrajs, lag)"
   ]
  },
  {
   "cell_type": "code",
   "execution_count": null,
   "id": "c82f2bca",
   "metadata": {},
   "outputs": [],
   "source": [
    "print ('fraction of states used = ', M.active_state_fraction)\n",
    "print ('fraction of counts used = ', M.active_count_fraction)"
   ]
  },
  {
   "cell_type": "code",
   "execution_count": null,
   "id": "ef502110",
   "metadata": {},
   "outputs": [],
   "source": [
    "plot(M.timescales(),linewidth=0,marker='o')\n",
    "xlabel('index'); ylabel('timescale (10 ns)'); xlim(-0.5,25.5)"
   ]
  },
  {
   "cell_type": "code",
   "execution_count": null,
   "id": "e9c2717e",
   "metadata": {},
   "outputs": [],
   "source": [
    "plot(M.timescales()[:-1]/M.timescales()[1:], linewidth=0,marker='o')\n",
    "xlabel('index'); ylabel('timescale separation'); xlim(-0.5, 25.5); ylim(1, 5);\n",
    "save_figure('timescale_ratio.png')"
   ]
  },
  {
   "cell_type": "code",
   "execution_count": null,
   "id": "fecd69d6",
   "metadata": {},
   "outputs": [],
   "source": [
    "n_sets = 7\n",
    "ck = M.cktest(n_sets, mlags=10, err_est=False, show_progress=True, n_jobs=1)\n",
    "\n",
    "matplotlib.rcParams.update({'font.size': 20})\n",
    "mplt.plot_cktest(ck, diag=True, figsize=(50,50), layout=(n_sets, n_sets), padding_top=0.1, y01=False, padding_between=0.3, dt=0.004, units='ns')\n",
    "save_figure('cktest.png')"
   ]
  },
  {
   "cell_type": "code",
   "execution_count": null,
   "id": "c139774d",
   "metadata": {},
   "outputs": [],
   "source": [
    "# Coarse graining systems\n",
    "\n",
    "M.pcca(n_sets)\n",
    "pcca_dist = M.metastable_distributions\n",
    "membership = M.metastable_memberships  # get PCCA memberships"
   ]
  },
  {
   "cell_type": "code",
   "execution_count": null,
   "id": "3f797a07",
   "metadata": {},
   "outputs": [],
   "source": [
    "pcca_samples = M.sample_by_distributions(pcca_dist, 1000)"
   ]
  },
  {
   "cell_type": "code",
   "execution_count": null,
   "id": "baa7d500",
   "metadata": {},
   "outputs": [],
   "source": [
    "outfiles = []\n",
    "for k in range(0, n_sets):\n",
    "    intstring = str(k+1)\n",
    "    filename = 'samples_pcca'+ intstring + '.nc'\n",
    "    outfiles.append(filename)\n",
    "coor.save_trajs(inp, pcca_samples, outfiles = outfiles)"
   ]
  },
  {
   "cell_type": "code",
   "execution_count": null,
   "id": "0b973c32",
   "metadata": {},
   "outputs": [],
   "source": [
    "figure(figsize=(20,20))\n",
    "pcca_sets = M.metastable_sets\n",
    "fig,ax = mplt.plot_free_energy(np.vstack(Y)[:,0], np.vstack(Y)[:,1], cmap = 'afmhot')\n",
    "ax.set_xlabel('IC 1')\n",
    "ax.set_ylabel('IC 2')\n",
    "# ax.set_xlim(-2,2)\n",
    "# ax.set_ylim(-3,3)\n",
    "colornames = list(matplotlib.colors.cnames.keys())\n",
    "#colornames\n",
    "colorselect = rndm.sample(colornames, n_sets + 1)\n",
    "for k in range(n_sets):\n",
    "    scatter(cl.clustercenters[pcca_sets[k],0], cl.clustercenters[pcca_sets[k],1], color=colorselect[k], s=10)\n",
    "    \n",
    "fig.savefig('free_energy_with_cluster.png',dpi = 300)"
   ]
  },
  {
   "cell_type": "code",
   "execution_count": null,
   "id": "b68e3f60",
   "metadata": {},
   "outputs": [],
   "source": [
    "hmm = M.coarse_grain(n_sets)"
   ]
  },
  {
   "cell_type": "code",
   "execution_count": null,
   "id": "b5906631",
   "metadata": {},
   "outputs": [],
   "source": [
    "# np.set_printoptions(precision=12, suppress=True)\n",
    "# hmm.stationary_distribution"
   ]
  },
  {
   "cell_type": "code",
   "execution_count": null,
   "id": "f200de28",
   "metadata": {},
   "outputs": [],
   "source": [
    "np.set_printoptions(precision=4, suppress=True)\n",
    "print(hmm.transition_matrix)"
   ]
  },
  {
   "cell_type": "code",
   "execution_count": null,
   "id": "c5ce39d6",
   "metadata": {},
   "outputs": [],
   "source": [
    "def avg_by_set(x, sets):\n",
    "    # compute mean positions of sets. This is important because of some technical points the set order \n",
    "    # in the coarse-grained TPT object can be different from the input order.\n",
    "    avg = np.zeros(len(sets))\n",
    "    for i in range(len(sets)):\n",
    "        I = list(sets[i])\n",
    "        avg[i] = np.mean(x[I])\n",
    "    return avg"
   ]
  },
  {
   "cell_type": "code",
   "execution_count": null,
   "id": "aa9eb7e5",
   "metadata": {},
   "outputs": [],
   "source": [
    "pcca_sets = hmm.metastable_sets\n",
    "xavg = avg_by_set(cc_x, pcca_sets)\n",
    "yavg = avg_by_set(cc_y, pcca_sets)\n",
    "avgpos = np.zeros((n_sets,2))\n",
    "avgpos[:,0] = xavg\n",
    "avgpos[:,1] = yavg"
   ]
  },
  {
   "cell_type": "code",
   "execution_count": null,
   "id": "144a7020",
   "metadata": {},
   "outputs": [],
   "source": [
    "fig,_ = mplt.plot_markov_model(hmm, pos=avgpos, minflux=1e-5, arrow_scale=0.8, arrow_label_format=' ', state_colors='skyblue', figpadding=0.25, max_width =20, max_height = 20)\n",
    "gca().set_frame_on(False)\n",
    "\n",
    "fig.savefig('network.eps',dpi = 300)"
   ]
  },
  {
   "cell_type": "code",
   "execution_count": null,
   "id": "396540f8",
   "metadata": {},
   "outputs": [],
   "source": [
    "A = [1]\n",
    "B = [4]\n",
    "flux = pyemma.msm.tpt(M1, A, B)"
   ]
  },
  {
   "cell_type": "code",
   "execution_count": null,
   "id": "b77056c3",
   "metadata": {},
   "outputs": [],
   "source": [
    "cg, cgflux = flux.coarse_grain(hmm.metastable_sets)"
   ]
  },
  {
   "cell_type": "code",
   "execution_count": null,
   "id": "ae1a4480",
   "metadata": {},
   "outputs": [],
   "source": [
    "# Probable pathways\n",
    "\n",
    "paths, path_fluxes = cgflux.pathways(fraction=1.00)\n",
    "print('percentage       \\tpath')\n",
    "print('-------------------------------------')\n",
    "for i in range(len(paths)):\n",
    "    print(np.round(path_fluxes[i] / np.sum(path_fluxes), 3),' \\t', paths[i])"
   ]
  },
  {
   "cell_type": "code",
   "execution_count": null,
   "id": "2ee0e477",
   "metadata": {},
   "outputs": [],
   "source": [
    "flux.pathways()"
   ]
  },
  {
   "cell_type": "code",
   "execution_count": null,
   "id": "d55c227b",
   "metadata": {},
   "outputs": [],
   "source": [
    "(paths,pathfluxes) =flux.pathways()\n",
    "cumflux = 0\n",
    "print(\"Path flux\\t\\t%path\\t%of total\\tpath\")\n",
    "for i in range(len(paths)):\n",
    "    cumflux += pathfluxes[i]\n",
    "    print(pathfluxes[i],'\\t','%3.1f'%(100.0*pathfluxes[i]/flux.total_flux),'%\\t','%3.1f'%(100.0*cumflux/flux.total_flux),'%\\t\\t',paths[i])"
   ]
  },
  {
   "cell_type": "code",
   "execution_count": null,
   "id": "4041a86d",
   "metadata": {},
   "outputs": [],
   "source": [
    "mplt.plot_flux(flux, pos=avgpos, flux_scale=100.0/flux.total_flux, arrow_label_format=\"%3.1f\",state_colors='skyblue',state_scale=0.1)"
   ]
  }
 ],
 "metadata": {
  "kernelspec": {
   "display_name": "Python 3 (ipykernel)",
   "language": "python",
   "name": "python3"
  },
  "language_info": {
   "codemirror_mode": {
    "name": "ipython",
    "version": 3
   },
   "file_extension": ".py",
   "mimetype": "text/x-python",
   "name": "python",
   "nbconvert_exporter": "python",
   "pygments_lexer": "ipython3",
   "version": "3.9.7"
  }
 },
 "nbformat": 4,
 "nbformat_minor": 5
}
