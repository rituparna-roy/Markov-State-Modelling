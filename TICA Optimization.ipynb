{
 "cells": [
  {
   "cell_type": "code",
   "execution_count": null,
   "id": "bf838daa",
   "metadata": {},
   "outputs": [],
   "source": [
    "import pyemma\n",
    "pyemma.__version__\n",
    "import random as rndm"
   ]
  },
  {
   "cell_type": "code",
   "execution_count": null,
   "id": "1d6862f4",
   "metadata": {},
   "outputs": [],
   "source": [
    "import matplotlib as mpltlib\n",
    "import matplotlib.pylab as plt\n",
    "import numpy as np\n",
    "#import nglview as nv\n",
    "%pylab inline\n",
    "import mdtraj\n",
    "import numpy as np\n",
    "\n",
    "import pyemma.util.contexts"
   ]
  },
  {
   "cell_type": "code",
   "execution_count": null,
   "id": "943100b9",
   "metadata": {},
   "outputs": [],
   "source": [
    "import pyemma.coordinates as coor\n",
    "import pyemma.msm as msm\n",
    "import pyemma.plots as mplt"
   ]
  },
  {
   "cell_type": "code",
   "execution_count": null,
   "id": "70713b6b",
   "metadata": {},
   "outputs": [],
   "source": [
    "indir = '.'\n",
    "topfile =  'hdim-oct.inpcrd.pdb'\n",
    "traj_list = []\n",
    "for filename in os.listdir(indir):\n",
    "    if filename.endswith('.nc'):\n",
    "        traj_list.append(os.path.join(indir,filename))\n"
   ]
  },
  {
   "cell_type": "code",
   "execution_count": null,
   "id": "5c64bc1c",
   "metadata": {},
   "outputs": [],
   "source": [
    "atom_mol = 145\n",
    "num_mol = 2\n",
    "\n",
    "topology = mdtraj.load(topfile).topology"
   ]
  },
  {
   "cell_type": "code",
   "execution_count": null,
   "id": "d3869af1",
   "metadata": {},
   "outputs": [],
   "source": [
    "feat = coor.featurizer(topfile)\n",
    "feat.add_backbone_torsions(deg=True)\n",
    "inp = coor.load(traj_list, features=feat)"
   ]
  },
  {
   "cell_type": "code",
   "execution_count": null,
   "id": "5976956f",
   "metadata": {},
   "outputs": [],
   "source": [
    "def score_cv(data, dim, lag, number_of_splits=10, validation_fraction=0.5):\n",
    "    \n",
    "    \"\"\"Compute a cross-validated VAMP2 score.\n",
    "# \n",
    "    We randomly split the list of independent trajectories into\n",
    "    a training and a validation set, compute the VAMP2 score,\n",
    "    and repeat this process several times.\n",
    "\n",
    "    Parameters\n",
    "    ----------\n",
    "    data : list of numpy.ndarrays\n",
    "        The input data.\n",
    "    dim : int\n",
    "        Number of processes to score; equivalent to the dimension\n",
    "        after projecting the data with VAMP2.\n",
    "    lag : int\n",
    "        Lag time for the VAMP2 scoring.\n",
    "    number_of_splits : int, optional, default=10\n",
    "        How often do we repeat the splitting and score calculation.\n",
    "    validation_fraction : int, optional, default=0.75\n",
    "        Fraction of trajectories which should go into the validation\n",
    "        set during a split.\n",
    "    \"\"\"\n",
    "\n",
    "    \n",
    "    nval = int(len(data) * validation_fraction)\n",
    "    scores = np.zeros(number_of_splits)\n",
    "    for n in range(number_of_splits):\n",
    "        ival = np.random.choice(len(data), size=nval, replace=False)\n",
    "        vamp = pyemma.coordinates.vamp([d for i, d in enumerate(data) if i not in ival], lag=lag, dim=dim)\n",
    "        scores[n] = vamp.score([d for i, d in enumerate(data) if i in ival])\n",
    "    return scores\n",
    "\n"
   ]
  },
  {
   "cell_type": "code",
   "execution_count": null,
   "id": "abe48abc",
   "metadata": {},
   "outputs": [],
   "source": [
    "\n",
    "\n",
    "lags = [100,250,375,500,750,1000]\n",
    "dims = [2,4,6,8,10]\n",
    "\n",
    "fig, ax = plt.subplots()\n",
    "for i, lag in enumerate(lags):\n",
    "    print('Calculation for Lag Time (in MD steps):' + str(lag))\n",
    "    scores_ = np.array([score_cv(inp, dim, lag)\n",
    "                        for dim in dims])\n",
    "    scores = np.mean(scores_, axis=1)\n",
    "    errors = np.std(scores_, axis=1, ddof=1)\n",
    "    color = 'C{}'.format(i)\n",
    "    ax.fill_between(dims, scores - errors, scores + errors, alpha=0.3, facecolor=color)\n",
    "    ax.plot(dims, scores, '--o', color=color, label='lag={:.1f}ns'.format(lag * 0.02))\n",
    "ax.legend()\n",
    "ax.set_xlabel('number of dimensions')\n",
    "ax.set_ylabel('VAMP2 score')\n",
    "fig.tight_layout()"
   ]
  },
  {
   "cell_type": "code",
   "execution_count": null,
   "id": "4db44a37",
   "metadata": {},
   "outputs": [],
   "source": [
    "lag = 250\n",
    "dim = 4\n",
    "tica_obj = coor.tica(inp, lag = lag, dim = dim, kinetic_map = True)"
   ]
  },
  {
   "cell_type": "code",
   "execution_count": null,
   "id": "d31ddf24",
   "metadata": {},
   "outputs": [],
   "source": [
    "Y = tica_obj.get_output()\n",
    "\n",
    "Y1 = np.concatenate(Y)"
   ]
  },
  {
   "cell_type": "code",
   "execution_count": null,
   "id": "d50c6f3e",
   "metadata": {},
   "outputs": [],
   "source": [
    "figure(figsize=(9,7))\n",
    "plt.subplot2grid((4,1),(0,0))\n",
    "plt.plot(Y1[:,0])\n",
    "plt.ylabel('IC 1')\n",
    "plt.subplot2grid((4,1),(1,0))\n",
    "plt.plot(Y1[:,1])\n",
    "plt.ylabel('IC 2')\n",
    "plt.subplot2grid((4,1),(2,0))\n",
    "plt.plot(Y1[:,2])\n",
    "plt.ylabel('IC 3')\n",
    "plt.subplot2grid((4,1),(3,0))\n",
    "plt.plot(Y1[:,3])\n",
    "plt.ylabel('IC 4')\n",
    "# plt.subplot2grid((8,1),(4,0))\n",
    "# plt.plot(Y1[:,0])\n",
    "# plt.ylabel('IC 5')\n",
    "# plt.subplot2grid((8,1),(5,0))\n",
    "# plt.plot(Y1[:,1])\n",
    "# plt.ylabel('IC 6')\n",
    "# plt.subplot2grid((8,1),(6,0))\n",
    "# plt.plot(Y1[:,2])\n",
    "# plt.ylabel('IC 7')\n",
    "# plt.subplot2grid((8,1),(7,0))\n",
    "# plt.plot(Y1[:,3])\n",
    "# plt.ylabel('IC 8')\n",
    "plt.xlabel('time (40 micros)')"
   ]
  },
  {
   "cell_type": "code",
   "execution_count": null,
   "id": "212f6696",
   "metadata": {},
   "outputs": [],
   "source": [
    "mplt.plot_feature_histograms(Y1, feature_labels=['IC1','IC2','IC3','IC4'])"
   ]
  },
  {
   "cell_type": "code",
   "execution_count": null,
   "id": "0a7785e8",
   "metadata": {},
   "outputs": [],
   "source": [
    "tica0 = np.array([])\n",
    "tica1 = np.array([])\n",
    "for j in range(len(Y)):\n",
    "    tica0 = np.concatenate((tica0, Y[j][:,0]))\n",
    "\n",
    "for j in range(len(Y)):\n",
    "    tica1 = np.concatenate((tica1, Y[j][:,1]))\n",
    "    \n",
    "# histogram data\n",
    "z,x,y = np.histogram2d(tica0, tica1, bins=200)\n",
    "extent = (x.min(), x.max(), y.min(), y.max()) # extent of the plot\n",
    "# compute free energies\n",
    "F = -np.log(z)\n",
    "F[F == inf] = -1000\n",
    "maxval = np.amax(F)\n",
    "F[F == -1000] = maxval\n",
    "plt.figure(figsize=(6,5))\n",
    "plt.contourf(F.T, 50, cmap=plt.cm.afmhot, extent = extent)\n",
    "plt.colorbar()\n",
    "plt.ylabel('IC2')\n",
    "plt.xlabel('IC1')\n",
    "plt.show()\n",
    "\n",
    "del(tica0)\n",
    "del(tica1)"
   ]
  }
 ],
 "metadata": {
  "kernelspec": {
   "display_name": "Python 3 (ipykernel)",
   "language": "python",
   "name": "python3"
  },
  "language_info": {
   "codemirror_mode": {
    "name": "ipython",
    "version": 3
   },
   "file_extension": ".py",
   "mimetype": "text/x-python",
   "name": "python",
   "nbconvert_exporter": "python",
   "pygments_lexer": "ipython3",
   "version": "3.9.7"
  }
 },
 "nbformat": 4,
 "nbformat_minor": 5
}
